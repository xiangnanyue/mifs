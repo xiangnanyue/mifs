{
 "cells": [
  {
   "cell_type": "code",
   "execution_count": 5,
   "metadata": {
    "collapsed": true
   },
   "outputs": [],
   "source": [
    "import mifs\n",
    "from sklearn.datasets import make_classification, make_regression\n",
    "import numpy as np \n",
    "from mifs import MutualInformationFeatureSelector"
   ]
  },
  {
   "cell_type": "code",
   "execution_count": 6,
   "metadata": {},
   "outputs": [],
   "source": [
    "def check_selection(selected, i, r):\n",
    "    \"\"\"\n",
    "    Check FN, FP, TP ratios among the selected features.\n",
    "    \"\"\"\n",
    "    # reorder selected features\n",
    "    try:\n",
    "        selected = set(selected)\n",
    "        all_f = set(range(i+r))\n",
    "        TP = len(selected.intersection(all_f))\n",
    "        FP = len(selected - all_f)\n",
    "        FN = len(all_f - selected)\n",
    "        if (TP+FN) > 0: \n",
    "            sens = TP/float(TP + FN)\n",
    "        else:\n",
    "            sens = np.nan\n",
    "        if (TP+FP) > 0:\n",
    "            prec = TP/float(TP + FP)\n",
    "        else:\n",
    "            prec = np.nan\n",
    "    except:\n",
    "        sens = np.nan\n",
    "        prec = np.nan\n",
    "    return sens, prec"
   ]
  },
  {
   "cell_type": "code",
   "execution_count": null,
   "metadata": {},
   "outputs": [
    {
     "name": "stdout",
     "output_type": "stream",
     "text": [
      "Auto selected feature #1 : 11, MRMR : 0.089838673985\n",
      "Auto selected feature #2 : 1, MRMR : 0.332579744701\n",
      "Auto selected feature #3 : 94, MRMR : 0.119474051687\n",
      "Auto selected feature #4 : 30, MRMR : 0.106808111986\n",
      "Auto selected feature #5 : 18, MRMR : 0.0963271945962\n",
      "Auto selected feature #6 : 96, MRMR : 0.0918398158922\n",
      "Auto selected feature #7 : 76, MRMR : 0.0918398158922\n",
      "Auto selected feature #8 : 68, MRMR : 0.0918398158922\n",
      "Auto selected feature #9 : 47, MRMR : 0.0551591016824\n",
      "Auto selected feature #10 : 63, MRMR : 0.0551591016824\n",
      "Auto selected feature #11 : 54, MRMR : 0.0468330900069\n",
      "Auto selected feature #12 : 50, MRMR : 0.0468330900069\n",
      "Auto selected feature #13 : 95, MRMR : 0.0468330900069\n",
      "Auto selected feature #14 : 31, MRMR : 0.0468330900069\n",
      "Auto selected feature #15 : 97, MRMR : 0.0468330900069\n",
      "Sensitivity: 0.133333333333    Precision: 0.133333333333\n"
     ]
    }
   ],
   "source": [
    "# variables for dataset    \n",
    "s = 200\n",
    "f = 100\n",
    "i = int(.1*f)\n",
    "r = int(.05*f)\n",
    "c = 2\n",
    "\n",
    "# simulate dataset with discrete class labels in y\n",
    "X, y = make_classification(n_samples=s, n_features=f, n_informative=i, \n",
    "                     n_redundant=r, n_clusters_per_class=c, \n",
    "                     random_state=0, shuffle=False)\n",
    "# perform feature selection\n",
    "MIFS = mifs.MutualInformationFeatureSelector(method='MRMR', verbose=2)\n",
    "MIFS.fit(X,y)\n",
    "# calculate precision and sensitivity\n",
    "sens, prec = check_selection(np.where(MIFS.support_)[0], i, r)\n",
    "print 'Sensitivity: ' + str(sens) + '    Precision: ' + str(prec)\n",
    "\n",
    "\n",
    "# simulate dataset with continuous y \n",
    "X, y = make_regression(n_samples=s, n_features=f, n_informative=i, \n",
    "                     random_state=0, shuffle=False)                     \n",
    "# perform feature selection\n",
    "MIFS = mifs.MutualInformationFeatureSelector(method='MRMR', verbose=2, \n",
    "                                              categorical = False)\n",
    "MIFS.fit(X,y)\n",
    "# calculate precision and sensitivity\n",
    "sens, prec = check_selection(np.where(MIFS.support_)[0], i, r)\n",
    "print 'Sensitivity: ' + str(sens) + '    Precision: ' + str(prec)"
   ]
  },
  {
   "cell_type": "code",
   "execution_count": null,
   "metadata": {
    "collapsed": true
   },
   "outputs": [],
   "source": []
  }
 ],
 "metadata": {
  "kernelspec": {
   "display_name": "Python 2",
   "language": "python",
   "name": "python2"
  },
  "language_info": {
   "codemirror_mode": {
    "name": "ipython",
    "version": 2
   },
   "file_extension": ".py",
   "mimetype": "text/x-python",
   "name": "python",
   "nbconvert_exporter": "python",
   "pygments_lexer": "ipython2",
   "version": "2.7.14"
  }
 },
 "nbformat": 4,
 "nbformat_minor": 2
}
